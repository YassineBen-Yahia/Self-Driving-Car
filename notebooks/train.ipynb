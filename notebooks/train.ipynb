{
 "cells": [
  {
   "cell_type": "markdown",
   "id": "bb490640-c3ca-47e9-974e-4e7cd5f32c05",
   "metadata": {},
   "source": [
    "## Importing dependencies"
   ]
  },
  {
   "cell_type": "code",
   "execution_count": 1,
   "id": "5536b5c1-7b54-4eb2-9f8a-04a531e4e536",
   "metadata": {},
   "outputs": [],
   "source": [
    "import os\n",
    "from stable_baselines3 import PPO\n",
    "from stable_baselines3.common.vec_env import  VecMonitor\n",
    "from stable_baselines3.common.vec_env import DummyVecEnv\n",
    "from stable_baselines3.common.callbacks import CheckpointCallback\n",
    "import metadrive\n"
   ]
  },
  {
   "cell_type": "markdown",
   "id": "0d5816b9-d4f3-4efe-abb5-358787b57e6f",
   "metadata": {},
   "source": [
    "### Creating a MetaDrive environment"
   ]
  },
  {
   "cell_type": "code",
   "execution_count": 2,
   "id": "024357ae-7348-4d15-ab01-1de6bb8b125c",
   "metadata": {},
   "outputs": [
    {
     "name": "stderr",
     "output_type": "stream",
     "text": [
      "\u001b[38;20m[INFO] Environment: MetaDriveEnv\u001b[0m\n",
      "\u001b[38;20m[INFO] MetaDrive version: 0.4.3\u001b[0m\n",
      "\u001b[38;20m[INFO] Sensors: [lidar: Lidar(), side_detector: SideDetector(), lane_line_detector: LaneLineDetector()]\u001b[0m\n",
      "\u001b[38;20m[INFO] Render Mode: none\u001b[0m\n",
      "\u001b[38;20m[INFO] Horizon (Max steps per agent): 1000\u001b[0m\n"
     ]
    }
   ],
   "source": [
    "config = {\n",
    "    \"use_render\": False,\n",
    "    \"manual_control\": False,\n",
    "    \"traffic_density\": 0.3,\n",
    "    \"map\": \"X\",   \n",
    "    \"random_lane_width\": True,\n",
    "    \"random_agent_model\": True,\n",
    "    \"random_traffic\": True,\n",
    "    \"map\": 5,  # random 5-block map\n",
    "    \"num_agents\": 1,\n",
    "    \"allow_respawn\": True\n",
    "}\n",
    "\n",
    "env = metadrive.MetaDriveEnv(config)"
   ]
  },
  {
   "cell_type": "markdown",
   "id": "5a8d7c80-580f-4030-91b0-ce418090b3fd",
   "metadata": {},
   "source": [
    "## Exploring the environment"
   ]
  },
  {
   "cell_type": "code",
   "execution_count": 11,
   "id": "09c95f2f-627f-411f-9f20-01726facb01d",
   "metadata": {},
   "outputs": [
    {
     "name": "stdout",
     "output_type": "stream",
     "text": [
      "Box(-0.0, 1.0, (261,), float32)\n",
      "Box(-1.0, 1.0, (2,), float32)\n"
     ]
    }
   ],
   "source": [
    "print(env.observation_space)   \n",
    "print(env.action_space)        "
   ]
  },
  {
   "cell_type": "code",
   "execution_count": 24,
   "id": "480d7cde-fd88-4e55-9d58-d38172fa0a8d",
   "metadata": {
    "scrolled": true
   },
   "outputs": [
    {
     "name": "stderr",
     "output_type": "stream",
     "text": [
      "\u001b[38;20m[INFO] Assets version: 0.4.3\u001b[0m\n",
      "\u001b[38;20m[INFO] Known Pipes: wglGraphicsPipe\u001b[0m\n",
      "\u001b[38;20m[INFO] Start Scenario Index: 0, Num Scenarios : 1\u001b[0m\n"
     ]
    }
   ],
   "source": [
    "obs = env.reset()\n",
    "for step in range(10):\n",
    "    action = env.action_space.sample()   # random action\n",
    "    obs, reward, terminated, truncated, info = env.step(action)\n",
    "    done = terminated or truncated\n",
    "\n",
    "    if done:\n",
    "        obs, info = env.reset()\n"
   ]
  },
  {
   "cell_type": "code",
   "execution_count": 9,
   "id": "453cbe27-b28b-45a4-9ded-d29b56aa3a7b",
   "metadata": {},
   "outputs": [],
   "source": [
    "env.close()"
   ]
  },
  {
   "cell_type": "code",
   "execution_count": 3,
   "id": "938a43c6-369e-4773-9a81-b4bab6001880",
   "metadata": {},
   "outputs": [
    {
     "name": "stdout",
     "output_type": "stream",
     "text": [
      "Using cuda device\n",
      "Wrapping the env with a `Monitor` wrapper\n",
      "Wrapping the env in a DummyVecEnv.\n"
     ]
    },
    {
     "name": "stderr",
     "output_type": "stream",
     "text": [
      "C:\\Users\\yby39\\anaconda3\\envs\\self_driving\\Lib\\site-packages\\stable_baselines3\\common\\on_policy_algorithm.py:150: UserWarning: You are trying to run PPO on the GPU, but it is primarily intended to run on the CPU when not using a CNN policy (you are using ActorCriticPolicy which should be a MlpPolicy). See https://github.com/DLR-RM/stable-baselines3/issues/1245 for more info. You can pass `device='cpu'` or `export CUDA_VISIBLE_DEVICES=` to force using the CPU.Note: The model will train, but the GPU utilization will be poor and the training might take longer than on CPU.\n",
      "  warnings.warn(\n"
     ]
    }
   ],
   "source": [
    "model= PPO(\"MlpPolicy\", env, verbose=1,tensorboard_log=\"./tb_logs\",)"
   ]
  },
  {
   "cell_type": "code",
   "execution_count": 3,
   "id": "48503d5c-e779-4712-8db7-a7c86791cda5",
   "metadata": {},
   "outputs": [
    {
     "name": "stderr",
     "output_type": "stream",
     "text": [
      "\u001b[38;20m[INFO] Environment: MetaDriveEnv\u001b[0m\n",
      "\u001b[38;20m[INFO] MetaDrive version: 0.4.3\u001b[0m\n",
      "\u001b[38;20m[INFO] Sensors: [lidar: Lidar(), side_detector: SideDetector(), lane_line_detector: LaneLineDetector(), main_camera: MainCamera(1200, 900), dashboard: DashBoard()]\u001b[0m\n",
      "\u001b[38;20m[INFO] Render Mode: onscreen\u001b[0m\n",
      "\u001b[38;20m[INFO] Horizon (Max steps per agent): 1000\u001b[0m\n",
      "\u001b[38;20m[INFO] Environment: MetaDriveEnv\u001b[0m\n",
      "\u001b[38;20m[INFO] MetaDrive version: 0.4.3\u001b[0m\n",
      "\u001b[38;20m[INFO] Sensors: [lidar: Lidar(), side_detector: SideDetector(), lane_line_detector: LaneLineDetector(), main_camera: MainCamera(1200, 900), dashboard: DashBoard()]\u001b[0m\n",
      "\u001b[38;20m[INFO] Render Mode: onscreen\u001b[0m\n",
      "\u001b[38;20m[INFO] Horizon (Max steps per agent): 1000\u001b[0m\n",
      "\u001b[38;20m[INFO] Environment: MetaDriveEnv\u001b[0m\n",
      "\u001b[38;20m[INFO] MetaDrive version: 0.4.3\u001b[0m\n",
      "\u001b[38;20m[INFO] Sensors: [lidar: Lidar(), side_detector: SideDetector(), lane_line_detector: LaneLineDetector(), main_camera: MainCamera(1200, 900), dashboard: DashBoard()]\u001b[0m\n",
      "\u001b[38;20m[INFO] Render Mode: onscreen\u001b[0m\n",
      "\u001b[38;20m[INFO] Horizon (Max steps per agent): 1000\u001b[0m\n",
      "\u001b[38;20m[INFO] Environment: MetaDriveEnv\u001b[0m\n",
      "\u001b[38;20m[INFO] MetaDrive version: 0.4.3\u001b[0m\n",
      "\u001b[38;20m[INFO] Sensors: [lidar: Lidar(), side_detector: SideDetector(), lane_line_detector: LaneLineDetector(), main_camera: MainCamera(1200, 900), dashboard: DashBoard()]\u001b[0m\n",
      "\u001b[38;20m[INFO] Render Mode: onscreen\u001b[0m\n",
      "\u001b[38;20m[INFO] Horizon (Max steps per agent): 1000\u001b[0m\n"
     ]
    }
   ],
   "source": [
    "from stable_baselines3.common.vec_env import DummyVecEnv\n",
    "vec_env = DummyVecEnv([lambda: metadrive.MetaDriveEnv(config) for _ in range(4)])\n"
   ]
  },
  {
   "cell_type": "code",
   "execution_count": 4,
   "id": "7f0f92f7-9995-43bb-95cd-495ccf7a2aca",
   "metadata": {},
   "outputs": [],
   "source": [
    "ckpt_cb = CheckpointCallback(save_freq=100000, save_path=\"./checkpoints/\", name_prefix=\"ppo_metadrive\")"
   ]
  },
  {
   "cell_type": "code",
   "execution_count": null,
   "id": "dac77bb9-8cbf-4bde-8316-addb6e913183",
   "metadata": {},
   "outputs": [
    {
     "name": "stderr",
     "output_type": "stream",
     "text": [
      "\u001b[38;20m[INFO] Assets version: 0.4.3\u001b[0m\n",
      "\u001b[38;20m[INFO] Known Pipes: wglGraphicsPipe\u001b[0m\n",
      "\u001b[38;20m[INFO] Start Scenario Index: 0, Num Scenarios : 1\u001b[0m\n"
     ]
    },
    {
     "name": "stdout",
     "output_type": "stream",
     "text": [
      "Logging to ./tb_logs\\PPO_5\n",
      "---------------------------------\n",
      "| rollout/           |          |\n",
      "|    ep_len_mean     | 434      |\n",
      "|    ep_rew_mean     | 0.834    |\n",
      "| time/              |          |\n",
      "|    fps             | 15       |\n",
      "|    iterations      | 1        |\n",
      "|    time_elapsed    | 132      |\n",
      "|    total_timesteps | 2048     |\n",
      "---------------------------------\n",
      "------------------------------------------\n",
      "| rollout/                |              |\n",
      "|    ep_len_mean          | 622          |\n",
      "|    ep_rew_mean          | 4.02         |\n",
      "| time/                   |              |\n",
      "|    fps                  | 13           |\n",
      "|    iterations           | 2            |\n",
      "|    time_elapsed         | 294          |\n",
      "|    total_timesteps      | 4096         |\n",
      "| train/                  |              |\n",
      "|    approx_kl            | 0.0057820645 |\n",
      "|    clip_fraction        | 0.0581       |\n",
      "|    clip_range           | 0.2          |\n",
      "|    entropy_loss         | -2.84        |\n",
      "|    explained_variance   | 0.0195       |\n",
      "|    learning_rate        | 0.0003       |\n",
      "|    loss                 | 0.168        |\n",
      "|    n_updates            | 10           |\n",
      "|    policy_gradient_loss | -0.00125     |\n",
      "|    std                  | 0.999        |\n",
      "|    value_loss           | 0.274        |\n",
      "------------------------------------------\n"
     ]
    }
   ],
   "source": [
    "model.learn(total_timesteps=1000000, callback=ckpt_cb)\n"
   ]
  }
 ],
 "metadata": {
  "kernelspec": {
   "display_name": "self driving",
   "language": "python",
   "name": "self_driving"
  },
  "language_info": {
   "codemirror_mode": {
    "name": "ipython",
    "version": 3
   },
   "file_extension": ".py",
   "mimetype": "text/x-python",
   "name": "python",
   "nbconvert_exporter": "python",
   "pygments_lexer": "ipython3",
   "version": "3.12.11"
  }
 },
 "nbformat": 4,
 "nbformat_minor": 5
}
