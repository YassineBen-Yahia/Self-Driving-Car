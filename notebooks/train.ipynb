{
 "cells": [
  {
   "cell_type": "code",
   "execution_count": 23,
   "id": "5536b5c1-7b54-4eb2-9f8a-04a531e4e536",
   "metadata": {},
   "outputs": [],
   "source": [
    "import os\n",
    "from stable_baselines3 import PPO\n",
    "from stable_baselines3.common.vec_env import  VecMonitor\n",
    "from stable_baselines3.common.callbacks import CheckpointCallback\n",
    "import metadrive"
   ]
  },
  {
   "cell_type": "code",
   "execution_count": 26,
   "id": "024357ae-7348-4d15-ab01-1de6bb8b125c",
   "metadata": {},
   "outputs": [
    {
     "name": "stderr",
     "output_type": "stream",
     "text": [
      "\u001b[38;20m[INFO] Environment: MetaDriveEnv\u001b[0m\n",
      "\u001b[38;20m[INFO] MetaDrive version: 0.4.3\u001b[0m\n",
      "\u001b[38;20m[INFO] Sensors: [lidar: Lidar(), side_detector: SideDetector(), lane_line_detector: LaneLineDetector(), main_camera: MainCamera(1200, 900), dashboard: DashBoard()]\u001b[0m\n",
      "\u001b[38;20m[INFO] Render Mode: onscreen\u001b[0m\n",
      "\u001b[38;20m[INFO] Horizon (Max steps per agent): 1000\u001b[0m\n"
     ]
    }
   ],
   "source": [
    "config = {\n",
    "    \"use_render\": True,          \n",
    "    \"manual_control\": False,     \n",
    "    \"traffic_density\": 0.2,      # More cars on the road\n",
    "    \"map\": 5,                    # Number of blocks\n",
    "  \n",
    "}\n",
    "env = metadrive.MetaDriveEnv(config)"
   ]
  },
  {
   "cell_type": "code",
   "execution_count": 27,
   "id": "09c95f2f-627f-411f-9f20-01726facb01d",
   "metadata": {},
   "outputs": [
    {
     "name": "stdout",
     "output_type": "stream",
     "text": [
      "Box(-0.0, 1.0, (259,), float32)\n",
      "Box(-1.0, 1.0, (2,), float32)\n"
     ]
    }
   ],
   "source": [
    "print(env.observation_space)   \n",
    "print(env.action_space)        "
   ]
  },
  {
   "cell_type": "code",
   "execution_count": 36,
   "id": "480d7cde-fd88-4e55-9d58-d38172fa0a8d",
   "metadata": {
    "scrolled": true
   },
   "outputs": [
    {
     "name": "stderr",
     "output_type": "stream",
     "text": [
      "\u001b[38;20m[INFO] Assets version: 0.4.3\u001b[0m\n",
      "\u001b[38;20m[INFO] Known Pipes: wglGraphicsPipe\u001b[0m\n",
      "\u001b[38;20m[INFO] Start Scenario Index: 0, Num Scenarios : 1\u001b[0m\n"
     ]
    },
    {
     "name": "stdout",
     "output_type": "stream",
     "text": [
      "* interrupt by keyboard\n"
     ]
    },
    {
     "ename": "KeyboardInterrupt",
     "evalue": "",
     "output_type": "error",
     "traceback": [
      "\u001b[1;31m---------------------------------------------------------------------------\u001b[0m",
      "\u001b[1;31mKeyboardInterrupt\u001b[0m                         Traceback (most recent call last)",
      "Cell \u001b[1;32mIn[36], line 4\u001b[0m\n\u001b[0;32m      2\u001b[0m \u001b[38;5;28;01mfor\u001b[39;00m step \u001b[38;5;129;01min\u001b[39;00m \u001b[38;5;28mrange\u001b[39m(\u001b[38;5;241m1000\u001b[39m):\n\u001b[0;32m      3\u001b[0m     action \u001b[38;5;241m=\u001b[39m env\u001b[38;5;241m.\u001b[39maction_space\u001b[38;5;241m.\u001b[39msample()   \u001b[38;5;66;03m# random action\u001b[39;00m\n\u001b[1;32m----> 4\u001b[0m     obs, reward, terminated, truncated, info \u001b[38;5;241m=\u001b[39m \u001b[43menv\u001b[49m\u001b[38;5;241;43m.\u001b[39;49m\u001b[43mstep\u001b[49m\u001b[43m(\u001b[49m\u001b[43maction\u001b[49m\u001b[43m)\u001b[49m\n\u001b[0;32m      5\u001b[0m     done \u001b[38;5;241m=\u001b[39m terminated \u001b[38;5;129;01mor\u001b[39;00m truncated\n\u001b[0;32m      7\u001b[0m     \u001b[38;5;28;01mif\u001b[39;00m done:\n",
      "File \u001b[1;32mc:\\users\\yby39\\self-driving-car\\metadrive\\metadrive\\envs\\base_env.py:437\u001b[0m, in \u001b[0;36mBaseEnv.step\u001b[1;34m(self, actions)\u001b[0m\n\u001b[0;32m    435\u001b[0m \u001b[38;5;28;01mdef\u001b[39;00m \u001b[38;5;21mstep\u001b[39m(\u001b[38;5;28mself\u001b[39m, actions: Union[Union[np\u001b[38;5;241m.\u001b[39mndarray, \u001b[38;5;28mlist\u001b[39m], Dict[AnyStr, Union[\u001b[38;5;28mlist\u001b[39m, np\u001b[38;5;241m.\u001b[39mndarray]], \u001b[38;5;28mint\u001b[39m]):\n\u001b[0;32m    436\u001b[0m     actions \u001b[38;5;241m=\u001b[39m \u001b[38;5;28mself\u001b[39m\u001b[38;5;241m.\u001b[39m_preprocess_actions(actions)  \u001b[38;5;66;03m# preprocess environment input\u001b[39;00m\n\u001b[1;32m--> 437\u001b[0m     engine_info \u001b[38;5;241m=\u001b[39m \u001b[38;5;28;43mself\u001b[39;49m\u001b[38;5;241;43m.\u001b[39;49m\u001b[43m_step_simulator\u001b[49m\u001b[43m(\u001b[49m\u001b[43mactions\u001b[49m\u001b[43m)\u001b[49m  \u001b[38;5;66;03m# step the simulation\u001b[39;00m\n\u001b[0;32m    438\u001b[0m     \u001b[38;5;28;01mwhile\u001b[39;00m \u001b[38;5;28mself\u001b[39m\u001b[38;5;241m.\u001b[39min_stop:\n\u001b[0;32m    439\u001b[0m         \u001b[38;5;28mself\u001b[39m\u001b[38;5;241m.\u001b[39mengine\u001b[38;5;241m.\u001b[39mtaskMgr\u001b[38;5;241m.\u001b[39mstep()  \u001b[38;5;66;03m# pause simulation\u001b[39;00m\n",
      "File \u001b[1;32mc:\\users\\yby39\\self-driving-car\\metadrive\\metadrive\\envs\\base_env.py:466\u001b[0m, in \u001b[0;36mBaseEnv._step_simulator\u001b[1;34m(self, actions)\u001b[0m\n\u001b[0;32m    464\u001b[0m scene_manager_before_step_infos \u001b[38;5;241m=\u001b[39m \u001b[38;5;28mself\u001b[39m\u001b[38;5;241m.\u001b[39mengine\u001b[38;5;241m.\u001b[39mbefore_step(actions)\n\u001b[0;32m    465\u001b[0m \u001b[38;5;66;03m# step all entities and the simulator\u001b[39;00m\n\u001b[1;32m--> 466\u001b[0m \u001b[38;5;28;43mself\u001b[39;49m\u001b[38;5;241;43m.\u001b[39;49m\u001b[43mengine\u001b[49m\u001b[38;5;241;43m.\u001b[39;49m\u001b[43mstep\u001b[49m\u001b[43m(\u001b[49m\u001b[38;5;28;43mself\u001b[39;49m\u001b[38;5;241;43m.\u001b[39;49m\u001b[43mconfig\u001b[49m\u001b[43m[\u001b[49m\u001b[38;5;124;43m\"\u001b[39;49m\u001b[38;5;124;43mdecision_repeat\u001b[39;49m\u001b[38;5;124;43m\"\u001b[39;49m\u001b[43m]\u001b[49m\u001b[43m)\u001b[49m\n\u001b[0;32m    467\u001b[0m \u001b[38;5;66;03m# update states, if restore from episode data, position and heading will be force set in update_state() function\u001b[39;00m\n\u001b[0;32m    468\u001b[0m scene_manager_after_step_infos \u001b[38;5;241m=\u001b[39m \u001b[38;5;28mself\u001b[39m\u001b[38;5;241m.\u001b[39mengine\u001b[38;5;241m.\u001b[39mafter_step()\n",
      "File \u001b[1;32mc:\\users\\yby39\\self-driving-car\\metadrive\\metadrive\\engine\\base_engine.py:455\u001b[0m, in \u001b[0;36mBaseEngine.step\u001b[1;34m(self, step_num)\u001b[0m\n\u001b[0;32m    452\u001b[0m         \u001b[38;5;28mself\u001b[39m\u001b[38;5;241m.\u001b[39mrecord_manager\u001b[38;5;241m.\u001b[39mstep()\n\u001b[0;32m    454\u001b[0m     \u001b[38;5;28;01mif\u001b[39;00m \u001b[38;5;28mself\u001b[39m\u001b[38;5;241m.\u001b[39mforce_fps\u001b[38;5;241m.\u001b[39mreal_time_simulation \u001b[38;5;129;01mand\u001b[39;00m i \u001b[38;5;241m<\u001b[39m step_num \u001b[38;5;241m-\u001b[39m \u001b[38;5;241m1\u001b[39m:\n\u001b[1;32m--> 455\u001b[0m         \u001b[38;5;28;43mself\u001b[39;49m\u001b[38;5;241;43m.\u001b[39;49m\u001b[43mtask_manager\u001b[49m\u001b[38;5;241;43m.\u001b[39;49m\u001b[43mstep\u001b[49m\u001b[43m(\u001b[49m\u001b[43m)\u001b[49m\n\u001b[0;32m    457\u001b[0m \u001b[38;5;66;03m#  Do rendering\u001b[39;00m\n\u001b[0;32m    458\u001b[0m \u001b[38;5;28mself\u001b[39m\u001b[38;5;241m.\u001b[39mtask_manager\u001b[38;5;241m.\u001b[39mstep()\n",
      "File \u001b[1;32m~\\anaconda3\\envs\\self_driving\\Lib\\site-packages\\direct\\task\\Task.py:517\u001b[0m, in \u001b[0;36mTaskManager.step\u001b[1;34m(self)\u001b[0m\n\u001b[0;32m    514\u001b[0m         \u001b[38;5;28mself\u001b[39m\u001b[38;5;241m.\u001b[39m__prevHandler \u001b[38;5;241m=\u001b[39m signal\u001b[38;5;241m.\u001b[39mdefault_int_handler\n\u001b[0;32m    516\u001b[0m \u001b[38;5;28;01mif\u001b[39;00m \u001b[38;5;28mself\u001b[39m\u001b[38;5;241m.\u001b[39mfKeyboardInterrupt:\n\u001b[1;32m--> 517\u001b[0m     \u001b[38;5;28;01mraise\u001b[39;00m \u001b[38;5;167;01mKeyboardInterrupt\u001b[39;00m\n",
      "\u001b[1;31mKeyboardInterrupt\u001b[0m: "
     ]
    }
   ],
   "source": [
    "obs = env.reset()\n",
    "for step in range(1000):\n",
    "    action = env.action_space.sample()   # random action\n",
    "    obs, reward, terminated, truncated, info = env.step(action)\n",
    "    done = terminated or truncated\n",
    "\n",
    "    if done:\n",
    "        obs, info = env.reset()\n"
   ]
  },
  {
   "cell_type": "code",
   "execution_count": 37,
   "id": "453cbe27-b28b-45a4-9ded-d29b56aa3a7b",
   "metadata": {},
   "outputs": [],
   "source": [
    "env.close()"
   ]
  }
 ],
 "metadata": {
  "kernelspec": {
   "display_name": "self driving",
   "language": "python",
   "name": "self_driving"
  },
  "language_info": {
   "codemirror_mode": {
    "name": "ipython",
    "version": 3
   },
   "file_extension": ".py",
   "mimetype": "text/x-python",
   "name": "python",
   "nbconvert_exporter": "python",
   "pygments_lexer": "ipython3",
   "version": "3.12.11"
  }
 },
 "nbformat": 4,
 "nbformat_minor": 5
}
