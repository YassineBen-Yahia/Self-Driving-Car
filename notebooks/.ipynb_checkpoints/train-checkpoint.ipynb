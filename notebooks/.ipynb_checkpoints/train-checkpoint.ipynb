{
 "cells": [
  {
   "cell_type": "markdown",
   "id": "bb490640-c3ca-47e9-974e-4e7cd5f32c05",
   "metadata": {},
   "source": [
    "## Importing dependencies"
   ]
  },
  {
   "cell_type": "code",
   "execution_count": 2,
   "id": "5536b5c1-7b54-4eb2-9f8a-04a531e4e536",
   "metadata": {},
   "outputs": [],
   "source": [
    "import os\n",
    "from stable_baselines3 import PPO\n",
    "from stable_baselines3.common.vec_env import  VecMonitor\n",
    "from stable_baselines3.common.vec_env import SubprocVecEnv\n",
    "from stable_baselines3.common.callbacks import CheckpointCallback\n",
    "import metadrive"
   ]
  },
  {
   "cell_type": "markdown",
   "id": "0d5816b9-d4f3-4efe-abb5-358787b57e6f",
   "metadata": {},
   "source": [
    "### Creating a MetaDrive environment"
   ]
  },
  {
   "cell_type": "code",
   "execution_count": 4,
   "id": "024357ae-7348-4d15-ab01-1de6bb8b125c",
   "metadata": {},
   "outputs": [
    {
     "name": "stderr",
     "output_type": "stream",
     "text": [
      "\u001b[38;20m[INFO] Environment: MetaDriveEnv\u001b[0m\n",
      "\u001b[38;20m[INFO] MetaDrive version: 0.4.3\u001b[0m\n",
      "\u001b[38;20m[INFO] Sensors: [lidar: Lidar(), side_detector: SideDetector(), lane_line_detector: LaneLineDetector(), main_camera: MainCamera(1200, 900), dashboard: DashBoard()]\u001b[0m\n",
      "\u001b[38;20m[INFO] Render Mode: onscreen\u001b[0m\n",
      "\u001b[38;20m[INFO] Horizon (Max steps per agent): 1000\u001b[0m\n"
     ]
    }
   ],
   "source": [
    "config = {\n",
    "    \"use_render\": True,          \n",
    "    \"manual_control\": False,     \n",
    "    \"traffic_density\": 0.2,      # More cars on the road\n",
    "    \"map\": 5,                    # Number of blocks\n",
    "  \n",
    "}\n",
    "env = metadrive.MetaDriveEnv(config)"
   ]
  },
  {
   "cell_type": "markdown",
   "id": "5a8d7c80-580f-4030-91b0-ce418090b3fd",
   "metadata": {},
   "source": [
    "## Exploring the environment"
   ]
  },
  {
   "cell_type": "code",
   "execution_count": 27,
   "id": "09c95f2f-627f-411f-9f20-01726facb01d",
   "metadata": {},
   "outputs": [
    {
     "name": "stdout",
     "output_type": "stream",
     "text": [
      "Box(-0.0, 1.0, (259,), float32)\n",
      "Box(-1.0, 1.0, (2,), float32)\n"
     ]
    }
   ],
   "source": [
    "print(env.observation_space)   \n",
    "print(env.action_space)        "
   ]
  },
  {
   "cell_type": "code",
   "execution_count": 5,
   "id": "480d7cde-fd88-4e55-9d58-d38172fa0a8d",
   "metadata": {
    "scrolled": true
   },
   "outputs": [
    {
     "name": "stderr",
     "output_type": "stream",
     "text": [
      "\u001b[38;20m[INFO] Assets version: 0.4.3\u001b[0m\n",
      "\u001b[38;20m[INFO] Known Pipes: wglGraphicsPipe\u001b[0m\n",
      "\u001b[38;20m[INFO] Start Scenario Index: 0, Num Scenarios : 1\u001b[0m\n"
     ]
    }
   ],
   "source": [
    "obs = env.reset()\n",
    "for step in range(2):\n",
    "    action = env.action_space.sample()   # random action\n",
    "    obs, reward, terminated, truncated, info = env.step(action)\n",
    "    done = terminated or truncated\n",
    "\n",
    "    if done:\n",
    "        obs, info = env.reset()\n"
   ]
  },
  {
   "cell_type": "code",
   "execution_count": 6,
   "id": "453cbe27-b28b-45a4-9ded-d29b56aa3a7b",
   "metadata": {},
   "outputs": [],
   "source": [
    "env.close()"
   ]
  },
  {
   "cell_type": "code",
   "execution_count": 7,
   "id": "7cec8208-ca58-4978-bfe0-a2f4f5510aad",
   "metadata": {},
   "outputs": [],
   "source": [
    "def make_env():\n",
    "    return MetaDriveEnv(dict(use_render=True)) "
   ]
  },
  {
   "cell_type": "code",
   "execution_count": null,
   "id": "ae519375-4fe5-449d-8849-5994d1eb61a5",
   "metadata": {},
   "outputs": [],
   "source": [
    "n_envs = 8  \n",
    "env = SubprocVecEnv([make_env for _ in range(n_envs)])"
   ]
  }
 ],
 "metadata": {
  "kernelspec": {
   "display_name": "self driving",
   "language": "python",
   "name": "self_driving"
  },
  "language_info": {
   "codemirror_mode": {
    "name": "ipython",
    "version": 3
   },
   "file_extension": ".py",
   "mimetype": "text/x-python",
   "name": "python",
   "nbconvert_exporter": "python",
   "pygments_lexer": "ipython3",
   "version": "3.12.11"
  }
 },
 "nbformat": 4,
 "nbformat_minor": 5
}
